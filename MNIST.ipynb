{
  "cells": [
    {
      "cell_type": "code",
      "execution_count": 1,
      "metadata": {
        "id": "CLpoigPexzSt"
      },
      "outputs": [],
      "source": [
        "import torch\n",
        "from torchvision import datasets, transforms\n",
        "import matplotlib.pyplot as plt\n",
        "import torch.nn as nn\n",
        "import torch.nn.functional as F\n",
        "import torch.optim as optim\n",
        "from PIL import Image\n",
        "import numpy as np\n",
        "import os\n",
        "import datetime"
      ]
    },
    {
      "cell_type": "code",
      "execution_count": 2,
      "metadata": {
        "id": "VQ8s7aikyATi"
      },
      "outputs": [],
      "source": [
        "data_path = 'data/'\n",
        "mnist = datasets.MNIST(data_path, train=True, download=False,\n",
        "                       transform = transforms.Compose([\n",
        "    transforms.RandomRotation(degrees=10),\n",
        "    transforms.RandomResizedCrop(size=(28, 28), scale=(0.8, 1.0)),\n",
        "    transforms.RandomHorizontalFlip(),\n",
        "    transforms.ColorJitter(brightness=0.2, contrast=0.2, saturation=0.2, hue=0.2),\n",
        "    transforms.RandomAffine(degrees=0, translate=(0.1, 0.1), scale=(0.9, 1.1)),\n",
        "    transforms.ToTensor(),\n",
        "    transforms.Normalize((0.5,), (0.5,))\n",
        "]))\n",
        "\n",
        "mnist_val = datasets.MNIST(data_path, train=False, download=False,\n",
        "                           transform = transforms.Compose([\n",
        "    transforms.RandomRotation(degrees=10),\n",
        "    transforms.RandomResizedCrop(size=(28, 28), scale=(0.8, 1.0)),\n",
        "    transforms.RandomHorizontalFlip(),\n",
        "    transforms.ColorJitter(brightness=0.2, contrast=0.2, saturation=0.2, hue=0.2),\n",
        "    transforms.RandomAffine(degrees=0, translate=(0.1, 0.1), scale=(0.9, 1.1)),\n",
        "    transforms.ToTensor(),\n",
        "    transforms.Normalize((0.5,), (0.5,))\n",
        "])\n",
        ")"
      ]
    },
    {
      "cell_type": "code",
      "execution_count": 3,
      "metadata": {
        "colab": {
          "base_uri": "https://localhost:8080/"
        },
        "id": "fObdDmC0A0VG",
        "outputId": "88b0ddb2-ec04-4e2f-db80-cf96ddbf7a31"
      },
      "outputs": [
        {
          "name": "stdout",
          "output_type": "stream",
          "text": [
            "Train on cuda\n"
          ]
        }
      ],
      "source": [
        "device = (torch.device('cuda') if torch.cuda.is_available() else\n",
        "          torch.device('cpu'))\n",
        "\n",
        "print('Train on {}'.format(device))"
      ]
    },
    {
      "cell_type": "code",
      "execution_count": 4,
      "metadata": {
        "id": "CoI0TVuo0bxe"
      },
      "outputs": [],
      "source": [
        "# imgs = torch.stack([img_t for img_t, _ in mnist], dim=3)"
      ]
    },
    {
      "cell_type": "code",
      "execution_count": 5,
      "metadata": {
        "id": "daMlucaZ0r5l"
      },
      "outputs": [],
      "source": [
        "# imgs.view(3, -1).mean(dim=1)"
      ]
    },
    {
      "cell_type": "code",
      "execution_count": 6,
      "metadata": {
        "id": "rQrP4N0S04Id"
      },
      "outputs": [],
      "source": [
        "# imgs.view(3, -1).std(dim=1)"
      ]
    },
    {
      "cell_type": "code",
      "execution_count": 7,
      "metadata": {
        "colab": {
          "base_uri": "https://localhost:8080/",
          "height": 364
        },
        "id": "klTg8UgR3s3P",
        "outputId": "2607f884-a898-47f1-b62a-d26e646def24"
      },
      "outputs": [
        {
          "data": {
            "image/png": "[encoded data removed]",
            "text/plain": [
              "<Figure size 640x480 with 8 Axes>"
            ]
          },
          "metadata": {},
          "output_type": "display_data"
        }
      ],
      "source": [
        "for i in range(8):\n",
        "    img, label = mnist[i]\n",
        "    plt.subplot(2, 4, i+1)\n",
        "    plt.imshow(img.permute(1, 2, 0), cmap='gray')\n",
        "    plt.title(label)\n",
        "    plt.axis('off')\n",
        "\n",
        "plt.subplots_adjust(wspace=0.05, hspace=0.01)\n",
        "plt.show()"
      ]
    },
    {
      "cell_type": "code",
      "execution_count": 8,
      "metadata": {
        "id": "2gkdGn9b9nbl"
      },
      "outputs": [],
      "source": [
        "img_t, _  = mnist[120]"
      ]
    },
    {
      "cell_type": "code",
      "execution_count": 9,
      "metadata": {
        "colab": {
          "base_uri": "https://localhost:8080/"
        },
        "id": "ktZcL9pg9yaM",
        "outputId": "78f236f8-df59-4b40-d437-e1e1bd1412c3"
      },
      "outputs": [
        {
          "data": {
            "text/plain": [
              "torch.Size([1, 28, 28])"
            ]
          },
          "execution_count": 9,
          "metadata": {},
          "output_type": "execute_result"
        }
      ],
      "source": [
        "img_t.shape"
      ]
    },
    {
      "cell_type": "code",
      "execution_count": 10,
      "metadata": {
        "id": "Gskd7M2zGmIq"
      },
      "outputs": [],
      "source": [
        "class NetDropout(nn.Module):\n",
        "    def __init__(self, n_chans1=32):\n",
        "        super().__init__()\n",
        "        self.n_chans1 = n_chans1\n",
        "        self.conv1 = nn.Conv2d(1, n_chans1, kernel_size=3, padding=1)\n",
        "        self.conv1_dropout = nn.Dropout2d(p=0.2)\n",
        "        self.conv2 = nn.Conv2d(n_chans1, n_chans1 // 2, kernel_size=3, padding=1)\n",
        "        self.conv2_dropout = nn.Dropout2d(p=0.2)\n",
        "        self.fc1 = nn.Linear(7*7*n_chans1 // 2, 32)\n",
        "        self.fc2 = nn.Linear(32, 10)\n",
        "\n",
        "    def forward(self, x):\n",
        "        out = F.max_pool2d(torch.relu(self.conv1(x)), 2)\n",
        "        out = self.conv1_dropout(out)\n",
        "        out = F.max_pool2d(torch.relu(self.conv2(out)), 2)\n",
        "        out = self.conv2_dropout(out)\n",
        "        out = out.view(-1, 7 * 7 * self.n_chans1 // 2)\n",
        "        out = torch.relu(self.fc1(out))\n",
        "        out = self.fc2(out)\n",
        "        return out"
      ]
    },
    {
      "cell_type": "code",
      "execution_count": 11,
      "metadata": {
        "id": "7XE09jKw-Tfw"
      },
      "outputs": [],
      "source": [
        "def training_loop(n_epochs, model, optimizer, scheduler, loss_fn, train_loader):\n",
        "    model.train()\n",
        "    for epoch in range(1, n_epochs+1):\n",
        "        loss_train = 0.0\n",
        "        for imgs, labels in train_loader:\n",
        "            imgs = imgs.to(device=device)\n",
        "            labels = labels.to(device=device)\n",
        "            output = model(imgs)\n",
        "            loss = loss_fn(output, labels)\n",
        "            optimizer.zero_grad()\n",
        "            loss.backward()\n",
        "            optimizer.step()\n",
        "            loss_train+=loss.item()\n",
        "        \n",
        "        #scheduler.step()\n",
        "\n",
        "        if epoch == 1 or epoch % 10 == 0:\n",
        "           print(\"{} Epoch {}, Training Loss {}\".format(\n",
        "              datetime.datetime.now(), epoch,\n",
        "              loss_train / len(train_loader)\n",
        "           ))\n"
      ]
    },
    {
      "cell_type": "code",
      "execution_count": 13,
      "metadata": {
        "colab": {
          "base_uri": "https://localhost:8080/"
        },
        "id": "7Qwr9bK3BsRi",
        "outputId": "a411816c-7738-46e5-b884-6e9858229d50"
      },
      "outputs": [
        {
          "name": "stdout",
          "output_type": "stream",
          "text": [
            "2023-11-29 11:45:00.339072 Epoch 1, Training Loss 1.023370855271435\n",
            "2023-11-29 11:59:36.014204 Epoch 10, Training Loss 0.22775611196007176\n",
            "2023-11-29 12:16:06.115414 Epoch 20, Training Loss 0.18725428047643572\n",
            "2023-11-29 12:33:17.097392 Epoch 30, Training Loss 0.17359266496464007\n",
            "2023-11-29 12:51:13.275545 Epoch 40, Training Loss 0.16666536326252068\n",
            "2023-11-29 13:08:03.343727 Epoch 50, Training Loss 0.15613974080180754\n"
          ]
        }
      ],
      "source": [
        "model = NetDropout().to(device=device)\n",
        "train_loader = torch.utils.data.DataLoader(mnist, batch_size=64, shuffle=True)\n",
        "optimizer = optim.SGD(model.parameters(), lr = 1e-2, momentum=0.9)\n",
        "scheduler = optim.lr_scheduler.StepLR(optimizer=optimizer, step_size=10, gamma=0.5)\n",
        "loss_fn = nn.CrossEntropyLoss()\n",
        "\n",
        "training_loop(\n",
        "    n_epochs=50,\n",
        "    model = model,\n",
        "    optimizer = optimizer,\n",
        "    scheduler = scheduler,\n",
        "    loss_fn = loss_fn,\n",
        "    train_loader = train_loader\n",
        ")"
      ]
    },
    {
      "cell_type": "code",
      "execution_count": 14,
      "metadata": {
        "id": "B60rYGRvKwUU"
      },
      "outputs": [],
      "source": [
        "torch.save(model.state_dict(), \"weights/\" + 'Model_50.pt')"
      ]
    },
    {
      "cell_type": "code",
      "execution_count": 6,
      "metadata": {
        "id": "6QYEvzt4BrUZ"
      },
      "outputs": [],
      "source": [
        "# model_state = torch.load('weights/mnist_dropout.pt', map_location = torch.device('cuda'))"
      ]
    },
    {
      "cell_type": "code",
      "execution_count": 7,
      "metadata": {
        "colab": {
          "base_uri": "https://localhost:8080/"
        },
        "id": "3_90G9sKD3Nl",
        "outputId": "bbbd1faa-306c-4ee0-d338-d4eccffd81b1"
      },
      "outputs": [
        {
          "data": {
            "text/plain": [
              "<All keys matched successfully>"
            ]
          },
          "execution_count": 7,
          "metadata": {},
          "output_type": "execute_result"
        }
      ],
      "source": [
        "# model = NetDropout().to(device=device)\n",
        "# model.load_state_dict(model_state)"
      ]
    },
    {
      "cell_type": "code",
      "execution_count": 15,
      "metadata": {
        "id": "5gNmXUVz15TC"
      },
      "outputs": [],
      "source": [
        "train_loader = torch.utils.data.DataLoader(mnist, batch_size=64, shuffle=False)\n",
        "val_loader = torch.utils.data.DataLoader(mnist_val, batch_size=64, shuffle=False)"
      ]
    },
    {
      "cell_type": "code",
      "execution_count": 16,
      "metadata": {
        "id": "sdcZGv1XJ12Z"
      },
      "outputs": [],
      "source": [
        "def validate(model, train_loader, val_loader):\n",
        "    model.eval()\n",
        "    for name, loader in [('train', train_loader), ('val', val_loader)]:\n",
        "        correct = 0\n",
        "        total = 0\n",
        "\n",
        "        with torch.no_grad():\n",
        "            for imgs, labels in loader:\n",
        "                imgs = imgs.to(device = device)\n",
        "                labels = labels.to(device = device)\n",
        "                outputs = model(imgs)\n",
        "                _, predicted = torch.max(outputs, dim=1)\n",
        "                total += labels.shape[0]\n",
        "                correct += int((predicted == labels).sum())\n",
        "\n",
        "            print(\"Accuracy {}: {:.2f}\".format(name, correct / total))"
      ]
    },
    {
      "cell_type": "code",
      "execution_count": 17,
      "metadata": {
        "colab": {
          "base_uri": "https://localhost:8080/"
        },
        "id": "hG8DGVymuM7Q",
        "outputId": "4ab42ad0-f19c-4ef2-e00a-fb3044fc7327"
      },
      "outputs": [
        {
          "name": "stdout",
          "output_type": "stream",
          "text": [
            "Accuracy train: 0.97\n",
            "Accuracy val: 0.97\n"
          ]
        }
      ],
      "source": [
        "validate(model=model, train_loader=train_loader, val_loader=val_loader)"
      ]
    },
    {
      "cell_type": "code",
      "execution_count": 26,
      "metadata": {
        "id": "MOUbiZRjsEYo"
      },
      "outputs": [],
      "source": [
        "test_path = 'test/'"
      ]
    },
    {
      "cell_type": "code",
      "execution_count": 18,
      "metadata": {
        "colab": {
          "base_uri": "https://localhost:8080/",
          "height": 430
        },
        "id": "-Jbeonel0pRH",
        "outputId": "f99d4aae-d6ea-4ff2-b367-ddd209ff994b"
      },
      "outputs": [],
      "source": [
        "img = Image.open('image/number.png')\n",
        "#img = np.clip(img, 0, 255)"
      ]
    },
    {
      "cell_type": "code",
      "execution_count": 19,
      "metadata": {},
      "outputs": [
        {
          "data": {
            "text/plain": [
              "PIL.PngImagePlugin.PngImageFile"
            ]
          },
          "execution_count": 19,
          "metadata": {},
          "output_type": "execute_result"
        }
      ],
      "source": [
        "type(img)"
      ]
    },
    {
      "cell_type": "code",
      "execution_count": 20,
      "metadata": {},
      "outputs": [],
      "source": [
        "transformer = transforms.Compose([\n",
        "    transforms.Grayscale(num_output_channels=1),\n",
        "    transforms.Resize(size=(28, 28)),\n",
        "    transforms.ToTensor(),\n",
        "    transforms.Normalize((0.5,), (0.5,))\n",
        "])"
      ]
    },
    {
      "cell_type": "code",
      "execution_count": 21,
      "metadata": {},
      "outputs": [],
      "source": [
        "tensor_img = transformer(img)"
      ]
    },
    {
      "cell_type": "code",
      "execution_count": 22,
      "metadata": {},
      "outputs": [
        {
          "data": {
            "text/plain": [
              "torch.Size([1, 28, 28])"
            ]
          },
          "execution_count": 22,
          "metadata": {},
          "output_type": "execute_result"
        }
      ],
      "source": [
        "tensor_img.shape"
      ]
    },
    {
      "cell_type": "code",
      "execution_count": 23,
      "metadata": {},
      "outputs": [
        {
          "data": {
            "image/png": "[encoded data removed]",
            "text/plain": [
              "<Figure size 640x480 with 1 Axes>"
            ]
          },
          "metadata": {},
          "output_type": "display_data"
        }
      ],
      "source": [
        "#tensor_img = tensor_img.unsqueeze(0)\n",
        "plt.imshow(tensor_img.permute(1, 2, 0), cmap='gray')\n",
        "plt.show()"
      ]
    },
    {
      "cell_type": "code",
      "execution_count": 24,
      "metadata": {
        "colab": {
          "base_uri": "https://localhost:8080/"
        },
        "id": "S4PQrqSpFN0k",
        "outputId": "3c5ddf1c-4b43-4db2-e225-026253a9d61f"
      },
      "outputs": [
        {
          "name": "stdout",
          "output_type": "stream",
          "text": [
            "tensor([5], device='cuda:0')\n",
            "99.40243363380432\n"
          ]
        }
      ],
      "source": [
        "with torch.no_grad():\n",
        "     tensor_img = tensor_img.to(device=device)\n",
        "     out = model(tensor_img.unsqueeze(0))\n",
        "     _, pred = torch.max(out, 1)\n",
        "     proba = F.softmax(out, dim=1)[0, pred].item() * 100\n",
        "     \n",
        "print(pred)\n",
        "print(proba)"
      ]
    },
    {
      "cell_type": "code",
      "execution_count": 27,
      "metadata": {
        "colab": {
          "base_uri": "https://localhost:8080/",
          "height": 428
        },
        "id": "IO568br3FjW0",
        "outputId": "588a97fa-494f-4530-a49f-1364107d17d8"
      },
      "outputs": [
        {
          "data": {
            "image/png": "[encoded data removed]",
            "text/plain": [
              "<Figure size 640x480 with 11 Axes>"
            ]
          },
          "metadata": {},
          "output_type": "display_data"
        }
      ],
      "source": [
        "accuracy_test = 0.0\n",
        "\n",
        "transformer = transforms.Compose([\n",
        "    transforms.Grayscale(num_output_channels=1),\n",
        "    transforms.ToTensor(),\n",
        "    transforms.Normalize((0.5,), (0.5,))\n",
        "])\n",
        "\n",
        "labels = [int(filename[0]) for filename in os.listdir(test_path)]\n",
        "\n",
        "for index, filename in enumerate(os.listdir(test_path)):\n",
        "\n",
        "    img = Image.open(test_path+filename)\n",
        "    img_t = transformer(img)\n",
        "    img_t = img_t.unsqueeze(0)\n",
        "\n",
        "    with torch.no_grad():\n",
        "         img_t = img_t.to(device=device)\n",
        "         out = model(img_t)\n",
        "         \n",
        "         _, predict_label = torch.max(out, 1)\n",
        "\n",
        "    if predict_label.item() == labels[index]:\n",
        "       accuracy_test += 1.0\n",
        "\n",
        "    plt.subplot(3, 4, index+1)\n",
        "    plt.imshow(img, cmap='gray')\n",
        "    plt.title(predict_label.item())\n",
        "    plt.axis('off')\n",
        "\n",
        "plt.subplots_adjust(wspace=0.05, hspace=0.5)\n",
        "plt.show()"
      ]
    },
    {
      "cell_type": "code",
      "execution_count": 28,
      "metadata": {
        "colab": {
          "base_uri": "https://localhost:8080/"
        },
        "id": "kdgn7oV4Ovjq",
        "outputId": "32e5ef59-d324-4474-c326-21c71ab41763"
      },
      "outputs": [
        {
          "name": "stdout",
          "output_type": "stream",
          "text": [
            "1.0\n"
          ]
        }
      ],
      "source": [
        "print(f\"{accuracy_test / len(labels)}\")"
      ]
    }
  ],
  "metadata": {
    "accelerator": "GPU",
    "colab": {
      "gpuType": "T4",
      "provenance": []
    },
    "kernelspec": {
      "display_name": "Python 3",
      "name": "python3"
    },
    "language_info": {
      "codemirror_mode": {
        "name": "ipython",
        "version": 3
      },
      "file_extension": ".py",
      "mimetype": "text/x-python",
      "name": "python",
      "nbconvert_exporter": "python",
      "pygments_lexer": "ipython3",
      "version": "3.11.5"
    }
  },
  "nbformat": 4,
  "nbformat_minor": 0
}
